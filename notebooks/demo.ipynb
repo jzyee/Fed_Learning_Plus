{
 "cells": [
  {
   "cell_type": "markdown",
   "metadata": {},
   "source": [
    "# Demo for how to use the FCIL methods\n",
    "\n"
   ]
  },
  {
   "cell_type": "code",
   "execution_count": null,
   "metadata": {},
   "outputs": [],
   "source": [
    "# change the working directory to the root of the project\n",
    "# so all the paths we use in the notebook are relative to the root of the project\n",
    "# and the code is used as expected\n",
    "%cd ..\n",
    "!ls"
   ]
  },
  {
   "cell_type": "markdown",
   "metadata": {},
   "source": [
    "## Requirements"
   ]
  },
  {
   "cell_type": "markdown",
   "metadata": {},
   "source": [
    "Please install the requirements first if you have not already"
   ]
  },
  {
   "cell_type": "code",
   "execution_count": null,
   "metadata": {},
   "outputs": [],
   "source": [
    "# please run the cell to download the requirements\n",
    "! pip install -r requirements.txt"
   ]
  },
  {
   "cell_type": "markdown",
   "metadata": {},
   "source": [
    "## install tumor dataset\n"
   ]
  },
  {
   "cell_type": "markdown",
   "metadata": {},
   "source": [
    "Please ensure your kaggle API key is set up.\n",
    "\n",
    "if not, please follow the following link to set it up:\n",
    "https://www.kaggle.com/docs/api\n"
   ]
  },
  {
   "cell_type": "code",
   "execution_count": 3,
   "metadata": {},
   "outputs": [],
   "source": [
    "# authenticate kaggle\n",
    "import kaggle\n",
    "kaggle.api.authenticate()"
   ]
  },
  {
   "cell_type": "code",
   "execution_count": null,
   "metadata": {},
   "outputs": [],
   "source": [
    "import kagglehub\n",
    "\n",
    "!mkdir -p dataset/tumor\n",
    "\n",
    "%cd dataset/tumor\n",
    "\n",
    "#!/bin/bash\n",
    "!kaggle datasets download fernando2rad/brain-tumor-mri-images-17-classes\n",
    "\n",
    "# unzip the dataset\n",
    "!unzip brain-tumor-mri-images-17-classes.zip\n",
    "\n",
    "# remove the zip file\n",
    "!rm brain-tumor-mri-images-17-classes.zip\n",
    "\n",
    "# go back to the root of the project\n",
    "%cd ../.."
   ]
  },
  {
   "cell_type": "code",
   "execution_count": null,
   "metadata": {},
   "outputs": [],
   "source": [
    "! ls"
   ]
  },
  {
   "cell_type": "markdown",
   "metadata": {},
   "source": [
    "## Step 1: View the script and modify the parameters if you would like to\n"
   ]
  },
  {
   "cell_type": "code",
   "execution_count": null,
   "metadata": {},
   "outputs": [],
   "source": [
    "# assuming we want to use the CIFAR100 dataset to quickly get started\n",
    "# we will now load the one of the scripts which contains the parameters for\n",
    "# the FCIL training \n",
    "\n",
    "# read the script\n",
    "!cat scripts/run_glfc_tumor_demo.sh\n"
   ]
  },
  {
   "cell_type": "markdown",
   "metadata": {},
   "source": [
    "As shown the above cell, the script contains the parameters for the FCIL training. It will execute *scripts/train_glfc.py* with the parameters specified in the bash(.sh) file\n",
    "\n",
    "Feel free to modify the parameters within that script to suit your needs.\n"
   ]
  },
  {
   "cell_type": "markdown",
   "metadata": {},
   "source": [
    "## Step 2: Run the script\n"
   ]
  },
  {
   "cell_type": "markdown",
   "metadata": {},
   "source": [
    "Now let's run the script!\n",
    "```bash\n",
    "!bash scripts/run_glfc_tumor_demo.sh > glfc_tumor_demo.log\n",
    "```\n",
    "\n",
    "the output will be saved in *glfc_tumor_demo.log*\n",
    "\n",
    "\n",
    "the log file contains the information of the training process, including the training loss, accuracy, etc.\n",
    "\n",
    "\n",
    "You can run the above bash command in the terminal when at the root of the project directly. We are running it in the notebook for demonstration purposes.  \n",
    "\n",
    "We will take a look at the log file and other visualizations to help us understand the training process later in this notebook.\n",
    "\n"
   ]
  },
  {
   "cell_type": "code",
   "execution_count": null,
   "metadata": {},
   "outputs": [],
   "source": [
    "# this command will print the logs of the .sh script to the .log file\n",
    "! scripts/run_glfc_tumor_demo.sh > glfc_tumor_demo.log"
   ]
  },
  {
   "cell_type": "markdown",
   "metadata": {},
   "source": [
    "## Step 3: Visualize the results\n"
   ]
  },
  {
   "cell_type": "markdown",
   "metadata": {},
   "source": [
    "### Visualize Forgetting Progression Heatmap\n"
   ]
  },
  {
   "cell_type": "code",
   "execution_count": null,
   "metadata": {},
   "outputs": [],
   "source": [
    "# the output from the .sh script which contains the \n",
    "\n",
    "from PIL import Image\n",
    "import matplotlib.pyplot as plt\n",
    "\n",
    "# the .sh script we ran created a directory with the following name:\n",
    "#  ./output/ResNet18_LeNet_mri_tumor_17_seed42_ts2_t5_eplcl10_epglb10__iid2_m500\n",
    "# within the directory, several images were created, to show the progression of the class forgetting\n",
    "\n",
    "# the last progression heatmap shows the final performance of the model\n",
    "# we will load last progression heatmap image in the folder:\n",
    "#  ./output/ResNet18_LeNet_mri_tumor_17_seed42_ts2_t5_eplcl10_epglb10__iid2_m500\n",
    "\n",
    "\n",
    "heatmap_path = \"./output/ResNet18_LeNet_mri_tumor_17_seed42_ts2_t5_eplcl10_epglb10__iid2_m500/class_forgetting_progression_t4_r9_m500.png\"\n",
    "\n",
    "# load the image using pillow\n",
    "heatmap_img = Image.open(heatmap_path)\n",
    "\n",
    "# display the image\n",
    "plt.imshow(heatmap_img)\n",
    "plt.axis('off')  # Hide axes for a cleaner look\n",
    "plt.show()"
   ]
  },
  {
   "cell_type": "markdown",
   "metadata": {},
   "source": [
    "### Visualize Accuracy as incremental learning progresses"
   ]
  },
  {
   "cell_type": "code",
   "execution_count": null,
   "metadata": {},
   "outputs": [],
   "source": [
    "import pandas as pd\n",
    "\n",
    "# the .sh script we ran created a csv with the following name:\n",
    "line_path = \"./output/ResNet18_LeNet_mri_tumor_17_seed42_ts2_t5_eplcl10_epglb10__iid2_m500/log_tar_2.txt\"\n",
    "\n",
    "# read the txt file\n",
    "with open(line_path, 'r') as file:\n",
    "    content = file.read()\n",
    "# print(content)\n",
    "\n",
    "# convert 2nd row onwards to a dataframe\n",
    "df = pd.read_csv(line_path, skiprows=1, header=None)\n",
    "\n",
    "# parse the columns\n",
    "# remove the strs in each column\n",
    "df['task'] = df[0].str.extract(r'Task: (\\d+)')[0].astype(int)\n",
    "df['round'] = df[1].str.extract(r'Round: (\\d+)')[0].astype(int)\n",
    "df['accuracy'] = df[1].str.extract(r'(\\d+\\.\\d+)%')[0].astype(float)\n",
    "\n",
    "# drop the first 2 columns\n",
    "df = df.iloc[:, 2:]\n",
    "\n",
    "# get the last row of the same task no.\n",
    "df = df.groupby('task').tail(1)\n",
    "\n",
    "df['classes learned'] = range(4, 4*5+1, 4)\n",
    "\n",
    "# plot accuracy vs classes learned\n",
    "plt.plot(df['classes learned'], df['accuracy'], marker='^')\n",
    "# add labels\n",
    "plt.xlabel('Classes Learned')\n",
    "plt.ylabel('Accuracy (%)')\n",
    "plt.title('Accuracy vs Classes Learned')\n",
    "plt.show()\n",
    "\n",
    "df.head()"
   ]
  },
  {
   "cell_type": "markdown",
   "metadata": {},
   "source": [
    "## Extra: Inspect the log file\n"
   ]
  },
  {
   "cell_type": "markdown",
   "metadata": {},
   "source": [
    "the log file contains the information of the training process, including the training loss, accuracy, etc.\n",
    "\n",
    "we can inspect the log file by printing the content of the file\n",
    "\n",
    "the log file can tell us:\n",
    "- which client is selected for the current round\n",
    "- the training loss and accuracy of the selected client\n",
    "- the global model performance after the current round of training\n",
    "- etc ...\n",
    "\n"
   ]
  },
  {
   "cell_type": "code",
   "execution_count": null,
   "metadata": {},
   "outputs": [],
   "source": [
    "log_path = \"glfc_tumor_demo.log\"\n",
    "\n",
    "# print the content of the file\n",
    "with open(log_path, 'r') as file:\n",
    "    content = file.read()\n",
    "print(content)"
   ]
  },
  {
   "cell_type": "code",
   "execution_count": null,
   "metadata": {},
   "outputs": [],
   "source": []
  }
 ],
 "metadata": {
  "kernelspec": {
   "display_name": "fed_env",
   "language": "python",
   "name": "python3"
  },
  "language_info": {
   "codemirror_mode": {
    "name": "ipython",
    "version": 3
   },
   "file_extension": ".py",
   "mimetype": "text/x-python",
   "name": "python",
   "nbconvert_exporter": "python",
   "pygments_lexer": "ipython3",
   "version": "3.10.12"
  }
 },
 "nbformat": 4,
 "nbformat_minor": 2
}
